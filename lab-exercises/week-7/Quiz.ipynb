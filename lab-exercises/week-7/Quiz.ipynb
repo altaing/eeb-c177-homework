{
 "cells": [
  {
   "cell_type": "markdown",
   "metadata": {},
   "source": [
    "# 1. What is a list in Python? \n",
    "## Write the code to define a list with the name my_list and the values 45, 4, 3.32, ‘abc’, 10121. (5 points)"
   ]
  },
  {
   "cell_type": "code",
   "execution_count": 129,
   "metadata": {},
   "outputs": [],
   "source": [
    "# A list is a type of data structure that contains elements that can be changed (mutable) and ordered.\n",
    "my_list = [45, 4, 3, 3.2, 'abc', 10121]"
   ]
  },
  {
   "cell_type": "code",
   "execution_count": 130,
   "metadata": {},
   "outputs": [
    {
     "name": "stdout",
     "output_type": "stream",
     "text": [
      "[45, 4, 3, 3.2, 'abc', 10121, 'apples']\n"
     ]
    }
   ],
   "source": [
    "my_list.append('apples')\n",
    "print(my_list)"
   ]
  },
  {
   "cell_type": "markdown",
   "metadata": {},
   "source": [
    "# 2. In 25 words or less, describe the difference between dict() and defaultdict(). (5 points)"
   ]
  },
  {
   "cell_type": "code",
   "execution_count": 9,
   "metadata": {},
   "outputs": [],
   "source": [
    "# A dafaultdict() will have a default value for a key if it has not been set by the user. A dict() will not. "
   ]
  },
  {
   "cell_type": "code",
   "execution_count": 39,
   "metadata": {},
   "outputs": [
    {
     "name": "stdout",
     "output_type": "stream",
     "text": [
      "defaultdict example\n",
      "Lemon\n",
      "Cherry\n",
      "\n",
      "\n",
      "dict example\n",
      "Apple\n"
     ]
    },
    {
     "ename": "KeyError",
     "evalue": "'Bobby'",
     "output_type": "error",
     "traceback": [
      "\u001b[0;31m---------------------------------------------------------------------------\u001b[0m",
      "\u001b[0;31mKeyError\u001b[0m                                  Traceback (most recent call last)",
      "\u001b[0;32m<ipython-input-39-b2175d06c5c7>\u001b[0m in \u001b[0;36m<module>\u001b[0;34m\u001b[0m\n\u001b[1;32m     11\u001b[0m \u001b[0mflavordict\u001b[0m \u001b[0;34m=\u001b[0m \u001b[0;34m{\u001b[0m\u001b[0;34m'Andrew'\u001b[0m\u001b[0;34m:\u001b[0m \u001b[0;34m'Lemon'\u001b[0m\u001b[0;34m,\u001b[0m \u001b[0;34m'Jane'\u001b[0m\u001b[0;34m:\u001b[0m \u001b[0;34m'Apple'\u001b[0m\u001b[0;34m}\u001b[0m\u001b[0;34m\u001b[0m\u001b[0;34m\u001b[0m\u001b[0m\n\u001b[1;32m     12\u001b[0m \u001b[0mprint\u001b[0m\u001b[0;34m(\u001b[0m\u001b[0mflavordict\u001b[0m\u001b[0;34m[\u001b[0m\u001b[0;34m'Jane'\u001b[0m\u001b[0;34m]\u001b[0m\u001b[0;34m)\u001b[0m\u001b[0;34m\u001b[0m\u001b[0;34m\u001b[0m\u001b[0m\n\u001b[0;32m---> 13\u001b[0;31m \u001b[0mprint\u001b[0m\u001b[0;34m(\u001b[0m\u001b[0mflavordict\u001b[0m\u001b[0;34m[\u001b[0m\u001b[0;34m'Bobby'\u001b[0m\u001b[0;34m]\u001b[0m\u001b[0;34m)\u001b[0m\u001b[0;34m\u001b[0m\u001b[0;34m\u001b[0m\u001b[0m\n\u001b[0m",
      "\u001b[0;31mKeyError\u001b[0m: 'Bobby'"
     ]
    }
   ],
   "source": [
    "from collections import defaultdict # Example of the difference between defaultdict and dict\n",
    "\n",
    "print('defaultdict example')\n",
    "flavor = defaultdict(lambda: 'Cherry')\n",
    "flavor['Andrew'] = 'Lemon'\n",
    "flavor['Jane'] = 'Apple'\n",
    "print(flavor['Andrew'])\n",
    "print(flavor['Bobby'])\n",
    "print('\\n')\n",
    "\n",
    "print('dict example')\n",
    "flavordict = {'Andrew': 'Lemon', 'Jane': 'Apple'}\n",
    "print(flavordict['Jane'])\n",
    "print(flavordict['Bobby'])"
   ]
  },
  {
   "cell_type": "markdown",
   "metadata": {},
   "source": [
    "# 3. What would the output be for the following Python code? (10 points)\n",
    "\n",
    "<code>if 4 > 5:\n",
    "    print('A')\n",
    "elif 4 == 5:\n",
    "    print('B')\n",
    "elif 4 < 5:\n",
    "    print('C')</code"
   ]
  },
  {
   "cell_type": "code",
   "execution_count": 51,
   "metadata": {},
   "outputs": [],
   "source": [
    "# The output will be C"
   ]
  },
  {
   "cell_type": "code",
   "execution_count": 42,
   "metadata": {},
   "outputs": [
    {
     "name": "stdout",
     "output_type": "stream",
     "text": [
      "False\n"
     ]
    }
   ],
   "source": [
    "if 'apples' == str: # Another use of if/elif statements with strings\n",
    "    print('True')\n",
    "elif 'apples' != str:\n",
    "    print('False')"
   ]
  },
  {
   "cell_type": "markdown",
   "metadata": {},
   "source": [
    "# 4. Write code for a simple Python program. (40 points total)\n",
    "a) Write the Python code necessary to initialize the default dictionary collection\n",
    "with the name my_dict. (5 pts.) \n",
    "\n",
    "1) Be sure to include the necessary import line of code to be able to use default dictionary. (5 pts.) \n",
    "\n",
    "2) We will be using the default dictionary to count the elements of the list, so make sure to initialize the default dictionary with the proper data type for counting. (5 pts.)\n",
    "\n",
    "(15 points)"
   ]
  },
  {
   "cell_type": "code",
   "execution_count": 36,
   "metadata": {},
   "outputs": [],
   "source": [
    "from collections import defaultdict #1\n",
    "my_dict = defaultdict(int) #2"
   ]
  },
  {
   "cell_type": "code",
   "execution_count": 37,
   "metadata": {},
   "outputs": [],
   "source": [
    "my_dict_str = defaultdict(str) #this dictionary will now only accept strings"
   ]
  },
  {
   "cell_type": "markdown",
   "metadata": {},
   "source": [
    "## b) Given one string separated by spaces, food_list, write the line of code necessary to split the string by spaces into a list of values separated by commas (like we did in lecture), and save it. (10 points)\n",
    "<code>food_list = 'spam spam spam spam spam spam eggs spam'</code>"
   ]
  },
  {
   "cell_type": "code",
   "execution_count": 50,
   "metadata": {},
   "outputs": [
    {
     "data": {
      "text/plain": [
       "['spam', 'spam', 'spam', 'spam', 'spam', 'spam', 'eggs', 'spam']"
      ]
     },
     "execution_count": 50,
     "metadata": {},
     "output_type": "execute_result"
    }
   ],
   "source": [
    "food_list = 'spam spam spam spam spam spam eggs spam'.split()\n",
    "food_list"
   ]
  },
  {
   "cell_type": "code",
   "execution_count": 58,
   "metadata": {
    "scrolled": true
   },
   "outputs": [
    {
     "data": {
      "text/plain": [
       "['apples',\n",
       " '8',\n",
       " 'bananas',\n",
       " 'grapes',\n",
       " 'mangos',\n",
       " 'pineapples',\n",
       " '23',\n",
       " 'apples',\n",
       " 'grapes',\n",
       " 'grapes']"
      ]
     },
     "execution_count": 58,
     "metadata": {},
     "output_type": "execute_result"
    }
   ],
   "source": [
    "list2 = 'apples 8 bananas grapes mangos pineapples 23 apples grapes grapes'.split()\n",
    "list2 # made a new list using differnt elements"
   ]
  },
  {
   "cell_type": "markdown",
   "metadata": {},
   "source": [
    "## c) Using the my_dict default dictionary you made in (a), write a for loop that would return the counts of food_list into the my_dict default dictionary. (15 points)"
   ]
  },
  {
   "cell_type": "code",
   "execution_count": 61,
   "metadata": {},
   "outputs": [
    {
     "data": {
      "text/plain": [
       "defaultdict(int, {'spam': 7, 'eggs': 1})"
      ]
     },
     "execution_count": 61,
     "metadata": {},
     "output_type": "execute_result"
    }
   ],
   "source": [
    "my_dict = defaultdict(int)\n",
    "for food in food_list:\n",
    "    my_dict[food] += 1\n",
    "my_dict"
   ]
  },
  {
   "cell_type": "code",
   "execution_count": 66,
   "metadata": {},
   "outputs": [
    {
     "data": {
      "text/plain": [
       "defaultdict(int,\n",
       "            {'apples': 4,\n",
       "             '8': 2,\n",
       "             'bananas': 2,\n",
       "             'grapes': 6,\n",
       "             'mangos': 2,\n",
       "             'pineapples': 2,\n",
       "             '23': 2})"
      ]
     },
     "execution_count": 66,
     "metadata": {},
     "output_type": "execute_result"
    }
   ],
   "source": [
    "list_2 = defaultdict(int) # Counted the elements within my second list but instead it added 2 for every 1 occurance\n",
    "for element in list2:\n",
    "    list_2[element] += 2\n",
    "list_2"
   ]
  },
  {
   "cell_type": "markdown",
   "metadata": {},
   "source": [
    "# 5. Python has a subfunction for strings that allows you to capitalize the characters within that string. The .upper() function accomplishes this. For example, a string such as, x = ‘abc’ could be capitalized and saved as such by running x = x.upper() \n",
    "## Given this, write a simple for loop that would iterate through a list of words (words) and save the all-caps versions in a new list called (bigwords). (10 points)"
   ]
  },
  {
   "cell_type": "code",
   "execution_count": 71,
   "metadata": {},
   "outputs": [
    {
     "data": {
      "text/plain": [
       "['THIS', 'IS', 'MY', 'LIST', 'OF', 'WORDS']"
      ]
     },
     "execution_count": 71,
     "metadata": {},
     "output_type": "execute_result"
    }
   ],
   "source": [
    "words = ['This', 'is', 'my', 'list', 'of', 'words']\n",
    "bigwords=[]\n",
    "for w in words:\n",
    "    bigwords.append(w.upper())\n",
    "bigwords"
   ]
  },
  {
   "cell_type": "code",
   "execution_count": 106,
   "metadata": {},
   "outputs": [
    {
     "data": {
      "text/plain": [
       "['this', 'is', 'my', 'list', 'of', 'words']"
      ]
     },
     "execution_count": 106,
     "metadata": {},
     "output_type": "execute_result"
    }
   ],
   "source": [
    "smolwords=[] #made all of the words from the bigwords list lower-case using for for loop\n",
    "for bw in bigwords:\n",
    "    smolwords.append(bw.lower())\n",
    "smolwords"
   ]
  },
  {
   "cell_type": "markdown",
   "metadata": {},
   "source": [
    "# 6. What would the output for the following code be. Write it as it would actually appear in the Jupyter Notebook output. (10 points)\n",
    "\n",
    "<code>number = 10\n",
    "for x in range(number):\n",
    "    output = x**2\n",
    "    print(output)</code>"
   ]
  },
  {
   "cell_type": "code",
   "execution_count": 87,
   "metadata": {},
   "outputs": [],
   "source": [
    "# 0\n",
    "# 1\n",
    "# 4\n",
    "# 9\n",
    "# 16\n",
    "# 25\n",
    "# 36\n",
    "# 49\n",
    "# 64\n",
    "# 81\n",
    "\n",
    "# blank space used to make it more readable"
   ]
  },
  {
   "cell_type": "code",
   "execution_count": 91,
   "metadata": {},
   "outputs": [
    {
     "name": "stdout",
     "output_type": "stream",
     "text": [
      "1\n",
      "4\n",
      "9\n",
      "16\n",
      "25\n",
      "36\n",
      "49\n",
      "64\n",
      "81\n",
      "100\n"
     ]
    }
   ],
   "source": [
    "number = 11 # Because we will start from the second value in python, we must add 1 to the upper end if we want to start from 1 and still retrun 10 values\n",
    "for x in range(1,number): # This function will now start from 1 instead of 0\n",
    "    output = x**2\n",
    "    print(output)"
   ]
  },
  {
   "cell_type": "markdown",
   "metadata": {},
   "source": [
    "# 7. Symbols for conditionals. (2.5 points each, 10 points total)\n",
    "a) Which symbol in Python is used to mean “equal to”?\n",
    "\n",
    "b) Which symbol in Python is used to mean “not equal to”?\n",
    "\n",
    "c) Which symbol in Python is used to mean “greater than or equal to”?\n",
    "\n",
    "d) Which symbol in Python is used to find the remainder?"
   ]
  },
  {
   "cell_type": "code",
   "execution_count": 92,
   "metadata": {},
   "outputs": [],
   "source": [
    "#a) ==\n",
    "#b) !=\n",
    "#c) >=\n",
    "#d) %"
   ]
  },
  {
   "cell_type": "code",
   "execution_count": 100,
   "metadata": {},
   "outputs": [
    {
     "name": "stdout",
     "output_type": "stream",
     "text": [
      "True\n",
      "\n",
      "\n",
      "False\n",
      "\n",
      "\n",
      "True\n",
      "\n",
      "\n",
      "The remainder of 10 divided by 3 is:  1\n"
     ]
    }
   ],
   "source": [
    "if 10 == 5*2: #a\n",
    "    print('True')\n",
    "print('\\n')\n",
    "\n",
    "if 15 != 5*2: #b\n",
    "    print('False')\n",
    "print('\\n')\n",
    "\n",
    "if 15 >= 5*2: #c\n",
    "    print('True')\n",
    "print('\\n')\n",
    "\n",
    "print('The remainder of 10 divided by 3 is: ',10%3) #d"
   ]
  },
  {
   "cell_type": "markdown",
   "metadata": {},
   "source": [
    "# 8. What subfunction do you use to remove the last element of a list? (5 points)"
   ]
  },
  {
   "cell_type": "code",
   "execution_count": 101,
   "metadata": {},
   "outputs": [],
   "source": [
    "# .pop()"
   ]
  },
  {
   "cell_type": "code",
   "execution_count": 108,
   "metadata": {},
   "outputs": [
    {
     "name": "stdout",
     "output_type": "stream",
     "text": [
      "['this', 'is', 'my', 'list', 'of', 'words']\n",
      "\n",
      "\n",
      "['this', 'is', 'my', 'list', 'of']\n"
     ]
    }
   ],
   "source": [
    "print(smolwords) #using the function .pop()\n",
    "print('\\n')\n",
    "smolwords.pop()\n",
    "print(smolwords)"
   ]
  },
  {
   "cell_type": "markdown",
   "metadata": {},
   "source": [
    "# 9. How do you find the length of a list with the name mylist? Make sure to write the code necessary to do this (you can show an example with mylist – no need to define what the values are). (5 points)"
   ]
  },
  {
   "cell_type": "code",
   "execution_count": 121,
   "metadata": {},
   "outputs": [],
   "source": [
    "# len(mylist)"
   ]
  },
  {
   "cell_type": "code",
   "execution_count": 119,
   "metadata": {},
   "outputs": [
    {
     "name": "stdout",
     "output_type": "stream",
     "text": [
      "Your word: pneumonoultramicroscopicsilicovolcanoconiosis\n",
      "This word has 45\n"
     ]
    }
   ],
   "source": [
    "word='' #another exmple of how the function len() can be used\n",
    "def count(word):\n",
    "    word = str(input('Your word: '))\n",
    "    print(\"This word has\", len(word))\n",
    "count(word)"
   ]
  },
  {
   "cell_type": "markdown",
   "metadata": {},
   "source": [
    "# Extra Credit\n",
    "## Write a for loop that prints a list containing the even numbers from 0 to 100. (10 points)"
   ]
  },
  {
   "cell_type": "code",
   "execution_count": 125,
   "metadata": {},
   "outputs": [
    {
     "name": "stdout",
     "output_type": "stream",
     "text": [
      "[0, 2, 4, 6, 8, 10, 12, 14, 16, 18, 20, 22, 24, 26, 28, 30, 32, 34, 36, 38, 40, 42, 44, 46, 48, 50, 52, 54, 56, 58, 60, 62, 64, 66, 68, 70, 72, 74, 76, 78, 80, 82, 84, 86, 88, 90, 92, 94, 96, 98, 100]\n"
     ]
    }
   ],
   "source": [
    "evens = []\n",
    "for n in range(0,101):\n",
    "    if n % 2 == 0:\n",
    "        evens.append(n)\n",
    "print(evens)"
   ]
  },
  {
   "cell_type": "code",
   "execution_count": 127,
   "metadata": {},
   "outputs": [
    {
     "name": "stdout",
     "output_type": "stream",
     "text": [
      "[1, 3, 5, 7, 9, 11, 13, 15, 17, 19, 21, 23, 25, 27, 29, 31, 33, 35, 37, 39, 41, 43, 45, 47, 49, 51, 53, 55, 57, 59, 61, 63, 65, 67, 69, 71, 73, 75, 77, 79, 81, 83, 85, 87, 89, 91, 93, 95, 97, 99]\n"
     ]
    }
   ],
   "source": [
    "odds = [] # Instead of finding all the even numbers from 0 to 100, I am finding all the odd numbers.\n",
    "for n in range(0,101):\n",
    "    if n % 2 == 1:\n",
    "        odds.append(n)\n",
    "print(odds)"
   ]
  },
  {
   "cell_type": "code",
   "execution_count": null,
   "metadata": {},
   "outputs": [],
   "source": []
  }
 ],
 "metadata": {
  "kernelspec": {
   "display_name": "Python 3",
   "language": "python",
   "name": "python3"
  },
  "language_info": {
   "codemirror_mode": {
    "name": "ipython",
    "version": 3
   },
   "file_extension": ".py",
   "mimetype": "text/x-python",
   "name": "python",
   "nbconvert_exporter": "python",
   "pygments_lexer": "ipython3",
   "version": "3.7.5"
  }
 },
 "nbformat": 4,
 "nbformat_minor": 2
}
