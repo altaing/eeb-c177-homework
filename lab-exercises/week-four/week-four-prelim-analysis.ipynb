{
 "cells": [
  {
   "cell_type": "code",
   "execution_count": 7,
   "metadata": {
    "scrolled": false
   },
   "outputs": [
    {
     "ename": "ValueError",
     "evalue": "could not convert string to float: '\\ufeff63'",
     "output_type": "error",
     "traceback": [
      "\u001b[0;31m---------------------------------------------------------------------------\u001b[0m",
      "\u001b[0;31mValueError\u001b[0m                                Traceback (most recent call last)",
      "\u001b[0;32m<ipython-input-7-bcc63df546ea>\u001b[0m in \u001b[0;36m<module>\u001b[0;34m\u001b[0m\n\u001b[1;32m      1\u001b[0m \u001b[0;32mimport\u001b[0m \u001b[0mnumpy\u001b[0m\u001b[0;34m\u001b[0m\u001b[0;34m\u001b[0m\u001b[0m\n\u001b[1;32m      2\u001b[0m \u001b[0;34m\u001b[0m\u001b[0m\n\u001b[0;32m----> 3\u001b[0;31m \u001b[0mnumpy\u001b[0m\u001b[0;34m.\u001b[0m\u001b[0mloadtxt\u001b[0m\u001b[0;34m(\u001b[0m\u001b[0mfname\u001b[0m\u001b[0;34m=\u001b[0m\u001b[0;34m'heart2.csv'\u001b[0m\u001b[0;34m,\u001b[0m \u001b[0mdelimiter\u001b[0m\u001b[0;34m=\u001b[0m\u001b[0;34m\",\"\u001b[0m\u001b[0;34m)\u001b[0m\u001b[0;34m\u001b[0m\u001b[0;34m\u001b[0m\u001b[0m\n\u001b[0m",
      "\u001b[0;32m~/anaconda3/lib/python3.7/site-packages/numpy/lib/npyio.py\u001b[0m in \u001b[0;36mloadtxt\u001b[0;34m(fname, dtype, comments, delimiter, converters, skiprows, usecols, unpack, ndmin, encoding, max_rows)\u001b[0m\n\u001b[1;32m   1144\u001b[0m         \u001b[0;31m# converting the data\u001b[0m\u001b[0;34m\u001b[0m\u001b[0;34m\u001b[0m\u001b[0;34m\u001b[0m\u001b[0m\n\u001b[1;32m   1145\u001b[0m         \u001b[0mX\u001b[0m \u001b[0;34m=\u001b[0m \u001b[0;32mNone\u001b[0m\u001b[0;34m\u001b[0m\u001b[0;34m\u001b[0m\u001b[0m\n\u001b[0;32m-> 1146\u001b[0;31m         \u001b[0;32mfor\u001b[0m \u001b[0mx\u001b[0m \u001b[0;32min\u001b[0m \u001b[0mread_data\u001b[0m\u001b[0;34m(\u001b[0m\u001b[0m_loadtxt_chunksize\u001b[0m\u001b[0;34m)\u001b[0m\u001b[0;34m:\u001b[0m\u001b[0;34m\u001b[0m\u001b[0;34m\u001b[0m\u001b[0m\n\u001b[0m\u001b[1;32m   1147\u001b[0m             \u001b[0;32mif\u001b[0m \u001b[0mX\u001b[0m \u001b[0;32mis\u001b[0m \u001b[0;32mNone\u001b[0m\u001b[0;34m:\u001b[0m\u001b[0;34m\u001b[0m\u001b[0;34m\u001b[0m\u001b[0m\n\u001b[1;32m   1148\u001b[0m                 \u001b[0mX\u001b[0m \u001b[0;34m=\u001b[0m \u001b[0mnp\u001b[0m\u001b[0;34m.\u001b[0m\u001b[0marray\u001b[0m\u001b[0;34m(\u001b[0m\u001b[0mx\u001b[0m\u001b[0;34m,\u001b[0m \u001b[0mdtype\u001b[0m\u001b[0;34m)\u001b[0m\u001b[0;34m\u001b[0m\u001b[0;34m\u001b[0m\u001b[0m\n",
      "\u001b[0;32m~/anaconda3/lib/python3.7/site-packages/numpy/lib/npyio.py\u001b[0m in \u001b[0;36mread_data\u001b[0;34m(chunk_size)\u001b[0m\n\u001b[1;32m   1072\u001b[0m \u001b[0;34m\u001b[0m\u001b[0m\n\u001b[1;32m   1073\u001b[0m             \u001b[0;31m# Convert each value according to its column and store\u001b[0m\u001b[0;34m\u001b[0m\u001b[0;34m\u001b[0m\u001b[0;34m\u001b[0m\u001b[0m\n\u001b[0;32m-> 1074\u001b[0;31m             \u001b[0mitems\u001b[0m \u001b[0;34m=\u001b[0m \u001b[0;34m[\u001b[0m\u001b[0mconv\u001b[0m\u001b[0;34m(\u001b[0m\u001b[0mval\u001b[0m\u001b[0;34m)\u001b[0m \u001b[0;32mfor\u001b[0m \u001b[0;34m(\u001b[0m\u001b[0mconv\u001b[0m\u001b[0;34m,\u001b[0m \u001b[0mval\u001b[0m\u001b[0;34m)\u001b[0m \u001b[0;32min\u001b[0m \u001b[0mzip\u001b[0m\u001b[0;34m(\u001b[0m\u001b[0mconverters\u001b[0m\u001b[0;34m,\u001b[0m \u001b[0mvals\u001b[0m\u001b[0;34m)\u001b[0m\u001b[0;34m]\u001b[0m\u001b[0;34m\u001b[0m\u001b[0;34m\u001b[0m\u001b[0m\n\u001b[0m\u001b[1;32m   1075\u001b[0m \u001b[0;34m\u001b[0m\u001b[0m\n\u001b[1;32m   1076\u001b[0m             \u001b[0;31m# Then pack it according to the dtype's nesting\u001b[0m\u001b[0;34m\u001b[0m\u001b[0;34m\u001b[0m\u001b[0;34m\u001b[0m\u001b[0m\n",
      "\u001b[0;32m~/anaconda3/lib/python3.7/site-packages/numpy/lib/npyio.py\u001b[0m in \u001b[0;36m<listcomp>\u001b[0;34m(.0)\u001b[0m\n\u001b[1;32m   1072\u001b[0m \u001b[0;34m\u001b[0m\u001b[0m\n\u001b[1;32m   1073\u001b[0m             \u001b[0;31m# Convert each value according to its column and store\u001b[0m\u001b[0;34m\u001b[0m\u001b[0;34m\u001b[0m\u001b[0;34m\u001b[0m\u001b[0m\n\u001b[0;32m-> 1074\u001b[0;31m             \u001b[0mitems\u001b[0m \u001b[0;34m=\u001b[0m \u001b[0;34m[\u001b[0m\u001b[0mconv\u001b[0m\u001b[0;34m(\u001b[0m\u001b[0mval\u001b[0m\u001b[0;34m)\u001b[0m \u001b[0;32mfor\u001b[0m \u001b[0;34m(\u001b[0m\u001b[0mconv\u001b[0m\u001b[0;34m,\u001b[0m \u001b[0mval\u001b[0m\u001b[0;34m)\u001b[0m \u001b[0;32min\u001b[0m \u001b[0mzip\u001b[0m\u001b[0;34m(\u001b[0m\u001b[0mconverters\u001b[0m\u001b[0;34m,\u001b[0m \u001b[0mvals\u001b[0m\u001b[0;34m)\u001b[0m\u001b[0;34m]\u001b[0m\u001b[0;34m\u001b[0m\u001b[0;34m\u001b[0m\u001b[0m\n\u001b[0m\u001b[1;32m   1075\u001b[0m \u001b[0;34m\u001b[0m\u001b[0m\n\u001b[1;32m   1076\u001b[0m             \u001b[0;31m# Then pack it according to the dtype's nesting\u001b[0m\u001b[0;34m\u001b[0m\u001b[0;34m\u001b[0m\u001b[0;34m\u001b[0m\u001b[0m\n",
      "\u001b[0;32m~/anaconda3/lib/python3.7/site-packages/numpy/lib/npyio.py\u001b[0m in \u001b[0;36mfloatconv\u001b[0;34m(x)\u001b[0m\n\u001b[1;32m    779\u001b[0m         \u001b[0;32mif\u001b[0m \u001b[0;34m'0x'\u001b[0m \u001b[0;32min\u001b[0m \u001b[0mx\u001b[0m\u001b[0;34m:\u001b[0m\u001b[0;34m\u001b[0m\u001b[0;34m\u001b[0m\u001b[0m\n\u001b[1;32m    780\u001b[0m             \u001b[0;32mreturn\u001b[0m \u001b[0mfloat\u001b[0m\u001b[0;34m.\u001b[0m\u001b[0mfromhex\u001b[0m\u001b[0;34m(\u001b[0m\u001b[0mx\u001b[0m\u001b[0;34m)\u001b[0m\u001b[0;34m\u001b[0m\u001b[0;34m\u001b[0m\u001b[0m\n\u001b[0;32m--> 781\u001b[0;31m         \u001b[0;32mreturn\u001b[0m \u001b[0mfloat\u001b[0m\u001b[0;34m(\u001b[0m\u001b[0mx\u001b[0m\u001b[0;34m)\u001b[0m\u001b[0;34m\u001b[0m\u001b[0;34m\u001b[0m\u001b[0m\n\u001b[0m\u001b[1;32m    782\u001b[0m \u001b[0;34m\u001b[0m\u001b[0m\n\u001b[1;32m    783\u001b[0m     \u001b[0mtyp\u001b[0m \u001b[0;34m=\u001b[0m \u001b[0mdtype\u001b[0m\u001b[0;34m.\u001b[0m\u001b[0mtype\u001b[0m\u001b[0;34m\u001b[0m\u001b[0;34m\u001b[0m\u001b[0m\n",
      "\u001b[0;31mValueError\u001b[0m: could not convert string to float: '\\ufeff63'"
     ]
    }
   ],
   "source": [
    "import numpy\n",
    "\n",
    "numpy.loadtxt(fname='heart2.csv', delimiter=\",\")"
   ]
  },
  {
   "cell_type": "code",
   "execution_count": 2,
   "metadata": {},
   "outputs": [],
   "source": [
    "import numpy as np\n",
    "\n",
    "data = np.loadtxt(fname='heart.csv', delimiter = ',', skiprows = 1)"
   ]
  },
  {
   "cell_type": "code",
   "execution_count": 20,
   "metadata": {},
   "outputs": [
    {
     "name": "stdout",
     "output_type": "stream",
     "text": [
      "[[63.  1.  3. ...  0.  1.  1.]\n",
      " [37.  1.  2. ...  0.  2.  1.]\n",
      " [41.  0.  1. ...  0.  2.  1.]\n",
      " ...\n",
      " [68.  1.  0. ...  2.  3.  0.]\n",
      " [57.  1.  0. ...  1.  3.  0.]\n",
      " [57.  0.  1. ...  1.  2.  0.]]\n"
     ]
    }
   ],
   "source": [
    "print(data)"
   ]
  },
  {
   "cell_type": "code",
   "execution_count": 21,
   "metadata": {
    "scrolled": true
   },
   "outputs": [
    {
     "data": {
      "text/plain": [
       "(303, 14)"
      ]
     },
     "execution_count": 21,
     "metadata": {},
     "output_type": "execute_result"
    }
   ],
   "source": [
    "data.shape"
   ]
  },
  {
   "cell_type": "code",
   "execution_count": 39,
   "metadata": {},
   "outputs": [],
   "source": [
    "agerrate = np.loadtxt(fname='heart.csv', delimiter = ',', skiprows = 1, usecols=(0,3))\n",
    "\n",
    "#isolating age and resting heart rate"
   ]
  },
  {
   "cell_type": "code",
   "execution_count": 24,
   "metadata": {},
   "outputs": [
    {
     "name": "stdout",
     "output_type": "stream",
     "text": [
      "[[ 63. 145.]\n",
      " [ 37. 130.]\n",
      " [ 41. 130.]\n",
      " [ 56. 120.]\n",
      " [ 57. 120.]\n",
      " [ 57. 140.]\n",
      " [ 56. 140.]\n",
      " [ 44. 120.]\n",
      " [ 52. 172.]\n",
      " [ 57. 150.]\n",
      " [ 54. 140.]\n",
      " [ 48. 130.]\n",
      " [ 49. 130.]\n",
      " [ 64. 110.]\n",
      " [ 58. 150.]\n",
      " [ 50. 120.]\n",
      " [ 58. 120.]\n",
      " [ 66. 150.]\n",
      " [ 43. 150.]\n",
      " [ 69. 140.]\n",
      " [ 59. 135.]\n",
      " [ 44. 130.]\n",
      " [ 42. 140.]\n",
      " [ 61. 150.]\n",
      " [ 40. 140.]\n",
      " [ 71. 160.]\n",
      " [ 59. 150.]\n",
      " [ 51. 110.]\n",
      " [ 65. 140.]\n",
      " [ 53. 130.]\n",
      " [ 41. 105.]\n",
      " [ 65. 120.]\n",
      " [ 44. 130.]\n",
      " [ 54. 125.]\n",
      " [ 51. 125.]\n",
      " [ 46. 142.]\n",
      " [ 54. 135.]\n",
      " [ 54. 150.]\n",
      " [ 65. 155.]\n",
      " [ 65. 160.]\n",
      " [ 51. 140.]\n",
      " [ 48. 130.]\n",
      " [ 45. 104.]\n",
      " [ 53. 130.]\n",
      " [ 39. 140.]\n",
      " [ 52. 120.]\n",
      " [ 44. 140.]\n",
      " [ 47. 138.]\n",
      " [ 53. 128.]\n",
      " [ 53. 138.]\n",
      " [ 51. 130.]\n",
      " [ 66. 120.]\n",
      " [ 62. 130.]\n",
      " [ 44. 108.]\n",
      " [ 63. 135.]\n",
      " [ 52. 134.]\n",
      " [ 48. 122.]\n",
      " [ 45. 115.]\n",
      " [ 34. 118.]\n",
      " [ 57. 128.]\n",
      " [ 71. 110.]\n",
      " [ 54. 108.]\n",
      " [ 52. 118.]\n",
      " [ 41. 135.]\n",
      " [ 58. 140.]\n",
      " [ 35. 138.]\n",
      " [ 51. 100.]\n",
      " [ 45. 130.]\n",
      " [ 44. 120.]\n",
      " [ 62. 124.]\n",
      " [ 54. 120.]\n",
      " [ 51.  94.]\n",
      " [ 29. 130.]\n",
      " [ 51. 140.]\n",
      " [ 43. 122.]\n",
      " [ 55. 135.]\n",
      " [ 51. 125.]\n",
      " [ 59. 140.]\n",
      " [ 52. 128.]\n",
      " [ 58. 105.]\n",
      " [ 41. 112.]\n",
      " [ 45. 128.]\n",
      " [ 60. 102.]\n",
      " [ 52. 152.]\n",
      " [ 42. 102.]\n",
      " [ 67. 115.]\n",
      " [ 68. 118.]\n",
      " [ 46. 101.]\n",
      " [ 54. 110.]\n",
      " [ 58. 100.]\n",
      " [ 48. 124.]\n",
      " [ 57. 132.]\n",
      " [ 52. 138.]\n",
      " [ 54. 132.]\n",
      " [ 45. 112.]\n",
      " [ 53. 142.]\n",
      " [ 62. 140.]\n",
      " [ 52. 108.]\n",
      " [ 43. 130.]\n",
      " [ 53. 130.]\n",
      " [ 42. 148.]\n",
      " [ 59. 178.]\n",
      " [ 63. 140.]\n",
      " [ 42. 120.]\n",
      " [ 50. 129.]\n",
      " [ 68. 120.]\n",
      " [ 69. 160.]\n",
      " [ 45. 138.]\n",
      " [ 50. 120.]\n",
      " [ 50. 110.]\n",
      " [ 64. 180.]\n",
      " [ 57. 150.]\n",
      " [ 64. 140.]\n",
      " [ 43. 110.]\n",
      " [ 55. 130.]\n",
      " [ 37. 120.]\n",
      " [ 41. 130.]\n",
      " [ 56. 120.]\n",
      " [ 46. 105.]\n",
      " [ 46. 138.]\n",
      " [ 64. 130.]\n",
      " [ 59. 138.]\n",
      " [ 41. 112.]\n",
      " [ 54. 108.]\n",
      " [ 39.  94.]\n",
      " [ 34. 118.]\n",
      " [ 47. 112.]\n",
      " [ 67. 152.]\n",
      " [ 52. 136.]\n",
      " [ 74. 120.]\n",
      " [ 54. 160.]\n",
      " [ 49. 134.]\n",
      " [ 42. 120.]\n",
      " [ 41. 110.]\n",
      " [ 41. 126.]\n",
      " [ 49. 130.]\n",
      " [ 60. 120.]\n",
      " [ 62. 128.]\n",
      " [ 57. 110.]\n",
      " [ 64. 128.]\n",
      " [ 51. 120.]\n",
      " [ 43. 115.]\n",
      " [ 42. 120.]\n",
      " [ 67. 106.]\n",
      " [ 76. 140.]\n",
      " [ 70. 156.]\n",
      " [ 44. 118.]\n",
      " [ 60. 150.]\n",
      " [ 44. 120.]\n",
      " [ 42. 130.]\n",
      " [ 66. 160.]\n",
      " [ 71. 112.]\n",
      " [ 64. 170.]\n",
      " [ 66. 146.]\n",
      " [ 39. 138.]\n",
      " [ 58. 130.]\n",
      " [ 47. 130.]\n",
      " [ 35. 122.]\n",
      " [ 58. 125.]\n",
      " [ 56. 130.]\n",
      " [ 56. 120.]\n",
      " [ 55. 132.]\n",
      " [ 41. 120.]\n",
      " [ 38. 138.]\n",
      " [ 38. 138.]\n",
      " [ 67. 160.]\n",
      " [ 67. 120.]\n",
      " [ 62. 140.]\n",
      " [ 63. 130.]\n",
      " [ 53. 140.]\n",
      " [ 56. 130.]\n",
      " [ 48. 110.]\n",
      " [ 58. 120.]\n",
      " [ 58. 132.]\n",
      " [ 60. 130.]\n",
      " [ 40. 110.]\n",
      " [ 60. 117.]\n",
      " [ 64. 140.]\n",
      " [ 43. 120.]\n",
      " [ 57. 150.]\n",
      " [ 55. 132.]\n",
      " [ 65. 150.]\n",
      " [ 61. 130.]\n",
      " [ 58. 112.]\n",
      " [ 50. 150.]\n",
      " [ 44. 112.]\n",
      " [ 60. 130.]\n",
      " [ 54. 124.]\n",
      " [ 50. 140.]\n",
      " [ 41. 110.]\n",
      " [ 51. 130.]\n",
      " [ 58. 128.]\n",
      " [ 54. 120.]\n",
      " [ 60. 145.]\n",
      " [ 60. 140.]\n",
      " [ 59. 170.]\n",
      " [ 46. 150.]\n",
      " [ 67. 125.]\n",
      " [ 62. 120.]\n",
      " [ 65. 110.]\n",
      " [ 44. 110.]\n",
      " [ 60. 125.]\n",
      " [ 58. 150.]\n",
      " [ 68. 180.]\n",
      " [ 62. 160.]\n",
      " [ 52. 128.]\n",
      " [ 59. 110.]\n",
      " [ 60. 150.]\n",
      " [ 49. 120.]\n",
      " [ 59. 140.]\n",
      " [ 57. 128.]\n",
      " [ 61. 120.]\n",
      " [ 39. 118.]\n",
      " [ 61. 145.]\n",
      " [ 56. 125.]\n",
      " [ 43. 132.]\n",
      " [ 62. 130.]\n",
      " [ 63. 130.]\n",
      " [ 65. 135.]\n",
      " [ 48. 130.]\n",
      " [ 63. 150.]\n",
      " [ 55. 140.]\n",
      " [ 65. 138.]\n",
      " [ 56. 200.]\n",
      " [ 54. 110.]\n",
      " [ 70. 145.]\n",
      " [ 62. 120.]\n",
      " [ 35. 120.]\n",
      " [ 59. 170.]\n",
      " [ 64. 125.]\n",
      " [ 47. 108.]\n",
      " [ 57. 165.]\n",
      " [ 55. 160.]\n",
      " [ 64. 120.]\n",
      " [ 70. 130.]\n",
      " [ 51. 140.]\n",
      " [ 58. 125.]\n",
      " [ 60. 140.]\n",
      " [ 77. 125.]\n",
      " [ 35. 126.]\n",
      " [ 70. 160.]\n",
      " [ 59. 174.]\n",
      " [ 64. 145.]\n",
      " [ 57. 152.]\n",
      " [ 56. 132.]\n",
      " [ 48. 124.]\n",
      " [ 56. 134.]\n",
      " [ 66. 160.]\n",
      " [ 54. 192.]\n",
      " [ 69. 140.]\n",
      " [ 51. 140.]\n",
      " [ 43. 132.]\n",
      " [ 62. 138.]\n",
      " [ 67. 100.]\n",
      " [ 59. 160.]\n",
      " [ 45. 142.]\n",
      " [ 58. 128.]\n",
      " [ 50. 144.]\n",
      " [ 62. 150.]\n",
      " [ 38. 120.]\n",
      " [ 66. 178.]\n",
      " [ 52. 112.]\n",
      " [ 53. 123.]\n",
      " [ 63. 108.]\n",
      " [ 54. 110.]\n",
      " [ 66. 112.]\n",
      " [ 55. 180.]\n",
      " [ 49. 118.]\n",
      " [ 54. 122.]\n",
      " [ 56. 130.]\n",
      " [ 46. 120.]\n",
      " [ 61. 134.]\n",
      " [ 67. 120.]\n",
      " [ 58. 100.]\n",
      " [ 47. 110.]\n",
      " [ 52. 125.]\n",
      " [ 58. 146.]\n",
      " [ 57. 124.]\n",
      " [ 58. 136.]\n",
      " [ 61. 138.]\n",
      " [ 42. 136.]\n",
      " [ 52. 128.]\n",
      " [ 59. 126.]\n",
      " [ 40. 152.]\n",
      " [ 61. 140.]\n",
      " [ 46. 140.]\n",
      " [ 59. 134.]\n",
      " [ 57. 154.]\n",
      " [ 57. 110.]\n",
      " [ 55. 128.]\n",
      " [ 61. 148.]\n",
      " [ 58. 114.]\n",
      " [ 58. 170.]\n",
      " [ 67. 152.]\n",
      " [ 44. 120.]\n",
      " [ 63. 140.]\n",
      " [ 63. 124.]\n",
      " [ 59. 164.]\n",
      " [ 57. 140.]\n",
      " [ 45. 110.]\n",
      " [ 68. 144.]\n",
      " [ 57. 130.]\n",
      " [ 57. 130.]]\n"
     ]
    }
   ],
   "source": [
    "print(agerrate)"
   ]
  },
  {
   "cell_type": "code",
   "execution_count": 26,
   "metadata": {
    "scrolled": true
   },
   "outputs": [],
   "source": [
    "import matplotlib.pyplot as plt"
   ]
  },
  {
   "cell_type": "code",
   "execution_count": 86,
   "metadata": {},
   "outputs": [
    {
     "data": {
      "text/plain": [
       "Text(0, 0.5, 'resting blood pressure (mmhg)')"
      ]
     },
     "execution_count": 86,
     "metadata": {},
     "output_type": "execute_result"
    },
    {
     "data": {
      "image/png": "[encoded data removed]",
      "text/plain": [
       "<Figure size 432x288 with 1 Axes>"
      ]
     },
     "metadata": {
      "needs_background": "light"
     },
     "output_type": "display_data"
    }
   ],
   "source": [
    "age, rrate = np.loadtxt('heart.csv', delimiter=',', skiprows=1, usecols=(0,3), unpack=True)\n",
    "plt.plot(age, rrate, 'bo')\n",
    "trendx = [30,80]\n",
    "trendy = [118.17,145.12]\n",
    "plt.plot(trendx, trendy)\n",
    "plt.xlabel(\"age\")\n",
    "plt.ylabel(\"resting blood pressure (mmhg)\")\n",
    "#was attempting to plot age versus their resting blood pressure as a scatter plot to see if there is any trend using points on a regression line\n",
    "#there looks to be a very slight positive correlation (through the r^2 value is not strong)"
   ]
  },
  {
   "cell_type": "code",
   "execution_count": 67,
   "metadata": {},
   "outputs": [],
   "source": [
    "restingrate = np.loadtxt(fname='heart.csv', delimiter = ',', skiprows = 1, usecols=(3))"
   ]
  },
  {
   "cell_type": "code",
   "execution_count": 90,
   "metadata": {},
   "outputs": [
    {
     "data": {
      "text/plain": [
       "200.0"
      ]
     },
     "execution_count": 90,
     "metadata": {},
     "output_type": "execute_result"
    }
   ],
   "source": [
    "max(restingrate) #max resting heart blood pressue of all patients"
   ]
  },
  {
   "cell_type": "code",
   "execution_count": 91,
   "metadata": {},
   "outputs": [
    {
     "data": {
      "text/plain": [
       "94.0"
      ]
     },
     "execution_count": 91,
     "metadata": {},
     "output_type": "execute_result"
    }
   ],
   "source": [
    "min(restingrate) #minimum resting blood pressure of all patients"
   ]
  },
  {
   "cell_type": "code",
   "execution_count": 73,
   "metadata": {},
   "outputs": [],
   "source": [
    "import pandas"
   ]
  },
  {
   "cell_type": "code",
   "execution_count": 87,
   "metadata": {},
   "outputs": [
    {
     "data": {
      "text/plain": [
       "Text(0, 0.5, 'resting blood pressure (mmhg)')"
      ]
     },
     "execution_count": 87,
     "metadata": {},
     "output_type": "execute_result"
    },
    {
     "data": {
      "image/png": "[encoded data removed]",
      "text/plain": [
       "<Figure size 432x288 with 1 Axes>"
      ]
     },
     "metadata": {
      "needs_background": "light"
     },
     "output_type": "display_data"
    }
   ],
   "source": [
    "rrate, chol = np.loadtxt('heart.csv', delimiter=',', skiprows=1, usecols=(3,4), unpack=True)\n",
    "plt.plot(chol, rrate, 'bo')\n",
    "plt.xlabel(\"cholesterol\")\n",
    "plt.ylabel(\"resting blood pressure (mmhg)\")\n",
    "\n",
    "#there seems to be no significant relationship between one's cholestrol and resting blood pressure in patients with heart problems"
   ]
  },
  {
   "cell_type": "code",
   "execution_count": 88,
   "metadata": {},
   "outputs": [
    {
     "data": {
      "text/plain": [
       "Text(0, 0.5, 'cholesterol')"
      ]
     },
     "execution_count": 88,
     "metadata": {},
     "output_type": "execute_result"
    },
    {
     "data": {
      "image/png": "[encoded data removed]",
      "text/plain": [
       "<Figure size 432x288 with 1 Axes>"
      ]
     },
     "metadata": {
      "needs_background": "light"
     },
     "output_type": "display_data"
    }
   ],
   "source": [
    "age, chol = np.loadtxt('heart.csv', delimiter=',', skiprows=1, usecols= (0,4), unpack=True)\n",
    "plt.plot(age, chol, 'bo')\n",
    "plt.xlabel(\"age\")\n",
    "plt.ylabel(\"cholesterol\")\n",
    "\n",
    "\n",
    "#age versus cholesterol in patients with heart problems"
   ]
  },
  {
   "cell_type": "code",
   "execution_count": 89,
   "metadata": {},
   "outputs": [
    {
     "data": {
      "text/plain": [
       "Text(0, 0.5, 'max heart rate')"
      ]
     },
     "execution_count": 89,
     "metadata": {},
     "output_type": "execute_result"
    },
    {
     "data": {
      "image/png": "[encoded data removed]",
      "text/plain": [
       "<Figure size 432x288 with 1 Axes>"
      ]
     },
     "metadata": {
      "needs_background": "light"
     },
     "output_type": "display_data"
    }
   ],
   "source": [
    "age, maxhr = np.loadtxt('heart.csv', delimiter=',', skiprows=1, usecols= (0,7), unpack=True)\n",
    "plt.plot(age, maxhr, 'bo')\n",
    "plt.xlabel(\"age\")\n",
    "plt.ylabel(\"max heart rate\")\n",
    "\n",
    "#there seems to be a negative correlation between age and maximum heart rate among those individuals with heart problems"
   ]
  },
  {
   "cell_type": "code",
   "execution_count": 97,
   "metadata": {},
   "outputs": [
    {
     "data": {
      "text/plain": [
       "Text(0, 0.5, 'bs')"
      ]
     },
     "execution_count": 97,
     "metadata": {},
     "output_type": "execute_result"
    },
    {
     "data": {
      "image/png": "[encoded data removed]",
      "text/plain": [
       "<Figure size 432x288 with 1 Axes>"
      ]
     },
     "metadata": {
      "needs_background": "light"
     },
     "output_type": "display_data"
    }
   ],
   "source": [
    "chol, bs = np.loadtxt('heart.csv', delimiter=',', skiprows=1, usecols= (4,5), unpack=True)\n",
    "plt.plot(chol, bs, 'bo')\n",
    "plt.xlabel(\"chol\")\n",
    "plt.ylabel(\"bs\")\n",
    "\n",
    "#cholesterol and high blood sugar\n",
    "#no apparent correlation"
   ]
  },
  {
   "cell_type": "code",
   "execution_count": 6,
   "metadata": {},
   "outputs": [
    {
     "data": {
      "text/plain": [
       "array([], shape=(0, 0), dtype=float64)"
      ]
     },
     "execution_count": 6,
     "metadata": {},
     "output_type": "execute_result"
    }
   ],
   "source": [
    "data[3:3,4:4]"
   ]
  },
  {
   "cell_type": "code",
   "execution_count": null,
   "metadata": {},
   "outputs": [],
   "source": []
  }
 ],
 "metadata": {
  "kernelspec": {
   "display_name": "Python 3",
   "language": "python",
   "name": "python3"
  },
  "language_info": {
   "codemirror_mode": {
    "name": "ipython",
    "version": 3
   },
   "file_extension": ".py",
   "mimetype": "text/x-python",
   "name": "python",
   "nbconvert_exporter": "python",
   "pygments_lexer": "ipython3",
   "version": "3.7.5"
  }
 },
 "nbformat": 4,
 "nbformat_minor": 2
}
