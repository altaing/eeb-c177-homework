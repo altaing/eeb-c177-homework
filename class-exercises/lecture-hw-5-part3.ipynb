{
 "cells": [
  {
   "cell_type": "markdown",
   "metadata": {},
   "source": [
    "# Question 1"
   ]
  },
  {
   "cell_type": "code",
   "execution_count": 87,
   "metadata": {},
   "outputs": [],
   "source": [
    "q1 = {1:2, 3:4, 4:3, 2:1, 0:0} #creates an unsorted dictionary of values"
   ]
  },
  {
   "cell_type": "code",
   "execution_count": 90,
   "metadata": {},
   "outputs": [
    {
     "name": "stdout",
     "output_type": "stream",
     "text": [
      "[(0, 0), (2, 1), (1, 2), (4, 3), (3, 4)]\n"
     ]
    }
   ],
   "source": [
    "import operator #imports operator\n",
    "aq1=sorted(q1.items(), key=operator.itemgetter(1)) #sorts the dictonary by ascending values\n",
    "print(aq1) #prints aq1 (sorted by asscending value)"
   ]
  },
  {
   "cell_type": "code",
   "execution_count": 91,
   "metadata": {},
   "outputs": [
    {
     "name": "stdout",
     "output_type": "stream",
     "text": [
      "[(3, 4), (4, 3), (1, 2), (2, 1), (0, 0)]\n"
     ]
    }
   ],
   "source": [
    "dq1=sorted(q1.items(), key=operator.itemgetter(1), reverse=True) #sorts the dictionary by descending values\n",
    "print(dq1) #prints dq1"
   ]
  },
  {
   "cell_type": "markdown",
   "metadata": {},
   "source": [
    "# Question 2"
   ]
  },
  {
   "cell_type": "code",
   "execution_count": 13,
   "metadata": {},
   "outputs": [],
   "source": [
    "q2 = {0: 10, 1: 20} #creates dictionary"
   ]
  },
  {
   "cell_type": "code",
   "execution_count": 25,
   "metadata": {},
   "outputs": [],
   "source": [
    "q2.update({2:30}) #adds new key to end of q2 dictionary"
   ]
  },
  {
   "cell_type": "code",
   "execution_count": 26,
   "metadata": {},
   "outputs": [
    {
     "name": "stdout",
     "output_type": "stream",
     "text": [
      "{0: 10, 1: 20, 2: 30}\n"
     ]
    }
   ],
   "source": [
    "print(q2) #prints q2"
   ]
  },
  {
   "cell_type": "markdown",
   "metadata": {},
   "source": [
    "# Question 3"
   ]
  },
  {
   "cell_type": "code",
   "execution_count": 27,
   "metadata": {},
   "outputs": [],
   "source": [
    "dic1 = {0:10,1:20} #creates sample dictionaries to be used in this exercise\n",
    "dic2 = {2:30,3:40}\n",
    "dic3 = {4:50,5:60}"
   ]
  },
  {
   "cell_type": "code",
   "execution_count": 34,
   "metadata": {},
   "outputs": [
    {
     "name": "stdout",
     "output_type": "stream",
     "text": [
      "{0: 10, 1: 20, 2: 30, 3: 40, 4: 50, 5: 60}\n"
     ]
    }
   ],
   "source": [
    "dic4 = {} #creates an empty dictionary\n",
    "dic4.update(dic1) #adds dic1 to end of dic4\n",
    "dic4.update(dic2) #adds dic2 to end of dic4\n",
    "dic4.update(dic3) #adds dic3 to end of dic4\n",
    "print(dic4) #prints dic4"
   ]
  },
  {
   "cell_type": "markdown",
   "metadata": {},
   "source": [
    "# Question 4"
   ]
  },
  {
   "cell_type": "code",
   "execution_count": 35,
   "metadata": {},
   "outputs": [],
   "source": [
    "q4 = dic4 #making a dictionary"
   ]
  },
  {
   "cell_type": "code",
   "execution_count": 42,
   "metadata": {},
   "outputs": [],
   "source": [
    "def exists(n): #defines the function 'exists' with variable 'n'\n",
    "    if n in q4: #if statement for if the value of 'n' is present in q4\n",
    "        print('exists') #if 'n' is present in q4, print \"exists\"\n",
    "    else: #what the code will do if 'n' is not present in q4\n",
    "        print('does not exist') #will print \"does not exist\""
   ]
  },
  {
   "cell_type": "code",
   "execution_count": 43,
   "metadata": {},
   "outputs": [
    {
     "name": "stdout",
     "output_type": "stream",
     "text": [
      "exists\n",
      "does not exist\n"
     ]
    }
   ],
   "source": [
    "exists(3) #testing\n",
    "exists(6) "
   ]
  },
  {
   "cell_type": "markdown",
   "metadata": {},
   "source": [
    "# Question 5"
   ]
  },
  {
   "cell_type": "code",
   "execution_count": 44,
   "metadata": {},
   "outputs": [],
   "source": [
    "q5 = {'x':10, 'y':20, 'z':30} #creates dictionary"
   ]
  },
  {
   "cell_type": "code",
   "execution_count": 46,
   "metadata": {},
   "outputs": [
    {
     "name": "stdout",
     "output_type": "stream",
     "text": [
      "x -> 10\n",
      "y -> 20\n",
      "z -> 30\n"
     ]
    }
   ],
   "source": [
    "for dict_key, dict_value in q5.items(): #defining a fuction to use the dictionary keys and dictionary values present within our dictionary q5\n",
    "    print(dict_key, '->', dict_value) #the function will print the dictionary key (in this case x, y, z) followed by '->', which is then followed by the dictionary values (in this case 10, 20, 30)"
   ]
  },
  {
   "cell_type": "markdown",
   "metadata": {},
   "source": [
    "# Question 6"
   ]
  },
  {
   "cell_type": "code",
   "execution_count": 50,
   "metadata": {},
   "outputs": [
    {
     "name": "stdout",
     "output_type": "stream",
     "text": [
      "5\n"
     ]
    }
   ],
   "source": [
    "n = int(input()) #assigning n as any integer (in this case 5)"
   ]
  },
  {
   "cell_type": "code",
   "execution_count": 51,
   "metadata": {},
   "outputs": [],
   "source": [
    "q6 = dict() #creating empty directory q6"
   ]
  },
  {
   "cell_type": "code",
   "execution_count": 55,
   "metadata": {},
   "outputs": [
    {
     "name": "stdout",
     "output_type": "stream",
     "text": [
      "{1: 1, 2: 4, 3: 9, 4: 16, 5: 25}\n"
     ]
    }
   ],
   "source": [
    "for x in range(1,n+1): #defining for loop function to work until it reaches the value of n+1\n",
    "    q6[x]=x*x #inserts the values of squares into q6\n",
    "print(q6) #prints q6"
   ]
  },
  {
   "cell_type": "markdown",
   "metadata": {},
   "source": [
    "# Question 7"
   ]
  },
  {
   "cell_type": "code",
   "execution_count": 56,
   "metadata": {},
   "outputs": [],
   "source": [
    "q7 = dict() #creates empty dictionary to be used for this exercise"
   ]
  },
  {
   "cell_type": "code",
   "execution_count": 58,
   "metadata": {},
   "outputs": [
    {
     "name": "stdout",
     "output_type": "stream",
     "text": [
      "{1: 1, 2: 4, 3: 9, 4: 16, 5: 25, 6: 36, 7: 49, 8: 64, 9: 81, 10: 100, 11: 121, 12: 144, 13: 169, 14: 196, 15: 225}\n"
     ]
    }
   ],
   "source": [
    "for x in range(1,16): #defining for loop function on values from 1 to 15\n",
    "    q7[x]=x*x #the function will square the values until the end of the range\n",
    "print(q7) #prints q7"
   ]
  },
  {
   "cell_type": "markdown",
   "metadata": {},
   "source": [
    "# Question 8"
   ]
  },
  {
   "cell_type": "code",
   "execution_count": 60,
   "metadata": {},
   "outputs": [],
   "source": [
    "q8d1 = {'a':10, 'b':20, 'c':30} #creating directories to be used in this exercise\n",
    "q8d2 = {'x':40, 'y':50, 'z':60}"
   ]
  },
  {
   "cell_type": "code",
   "execution_count": 61,
   "metadata": {},
   "outputs": [],
   "source": [
    "q8 = {} #creating empty directory for q8d1 and q8d2 to be merged"
   ]
  },
  {
   "cell_type": "code",
   "execution_count": 63,
   "metadata": {},
   "outputs": [
    {
     "name": "stdout",
     "output_type": "stream",
     "text": [
      "{'a': 10, 'b': 20, 'c': 30, 'x': 40, 'y': 50, 'z': 60}\n"
     ]
    }
   ],
   "source": [
    "q8.update(q8d1) #merging q8d1 into q8\n",
    "q8.update(q8d2) #merging q8d2 into q8\n",
    "print(q8) #prints q8"
   ]
  },
  {
   "cell_type": "markdown",
   "metadata": {},
   "source": [
    "# Question 9"
   ]
  },
  {
   "cell_type": "code",
   "execution_count": 65,
   "metadata": {},
   "outputs": [],
   "source": [
    "q9 = {'red':1, 'green':2, 'blue':3} #creates dictionary to be used in this exercise"
   ]
  },
  {
   "cell_type": "code",
   "execution_count": 67,
   "metadata": {},
   "outputs": [
    {
     "name": "stdout",
     "output_type": "stream",
     "text": [
      "red corresponds to 1\n",
      "green corresponds to 2\n",
      "blue corresponds to 3\n"
     ]
    }
   ],
   "source": [
    "for clr, n in q9.items(): #createss a for loop involving the color and assigned arbitrary numerical value\n",
    "    print(clr, 'corresponds to', q9[clr]) #will place the phrase 'corresponds to' between each entry"
   ]
  },
  {
   "cell_type": "markdown",
   "metadata": {},
   "source": [
    "# Question 10"
   ]
  },
  {
   "cell_type": "code",
   "execution_count": 68,
   "metadata": {},
   "outputs": [],
   "source": [
    "q10 = {'x':10, 'y':20, 'z':30} #creating dictionary to be used in this exercise"
   ]
  },
  {
   "cell_type": "code",
   "execution_count": 73,
   "metadata": {},
   "outputs": [
    {
     "name": "stdout",
     "output_type": "stream",
     "text": [
      "60\n"
     ]
    }
   ],
   "source": [
    "print(sum(q10.values())) #will print the sum of the values within dictionary q10"
   ]
  },
  {
   "cell_type": "code",
   "execution_count": null,
   "metadata": {},
   "outputs": [],
   "source": []
  }
 ],
 "metadata": {},
 "nbformat": 4,
 "nbformat_minor": 2
}
