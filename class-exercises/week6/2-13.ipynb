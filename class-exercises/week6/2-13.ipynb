{
 "cells": [
  {
   "cell_type": "code",
   "execution_count": 20,
   "metadata": {},
   "outputs": [
    {
     "name": "stdout",
     "output_type": "stream",
     "text": [
      "What is the temperature in Fahrenheit?: 123\n",
      "The temperature in Celsius is: 50.55555555555556\n"
     ]
    }
   ],
   "source": [
    "t=[]\n",
    "def f2c(t):\n",
    "    t = float(input('What is the temperature in Fahrenheit?: '))\n",
    "    x = ((t-32)*(5/9))\n",
    "    print('The temperature in Celsius is:', x)\n",
    "f2c(t)"
   ]
  },
  {
   "cell_type": "code",
   "execution_count": 2,
   "metadata": {},
   "outputs": [
    {
     "name": "stdout",
     "output_type": "stream",
     "text": [
      "What is the temperature in Celsius?: 20\n",
      "The temperature in Fahrenheit is:  68.0\n"
     ]
    }
   ],
   "source": [
    "t=[]\n",
    "def c2f(t):\n",
    "    t = float(input('What is the temperature in Celsius?: '))\n",
    "    x = ((t*(9/5)+32))\n",
    "    print('The temperature in Fahrenheit is: ', x)\n",
    "c2f(t)"
   ]
  },
  {
   "cell_type": "code",
   "execution_count": 21,
   "metadata": {},
   "outputs": [],
   "source": [
    "temp=''\n",
    "def convert(temp):\n",
    "    temp = str(input('Would you like to convert to Celcius(C) or Fahrenheit(F)?\\nType C or F: '))\n",
    "    if temp == 'F' or temp == 'f':\n",
    "        c2f(t)\n",
    "    elif temp == 'C' or temp == 'c':\n",
    "        f2c(t)\n",
    "    else:\n",
    "        print('Invalid Input -- Type C or F')"
   ]
  },
  {
   "cell_type": "code",
   "execution_count": 22,
   "metadata": {
    "scrolled": true
   },
   "outputs": [
    {
     "name": "stdout",
     "output_type": "stream",
     "text": [
      "Would you like to convert to Celcius(C) or Fahrenheit(F)?\n",
      "Type C or F: c\n",
      "What is the temperature in Fahrenheit?: 90\n",
      "The temperature in Celsius is: 32.22222222222222\n"
     ]
    }
   ],
   "source": [
    "convert(temp)"
   ]
  },
  {
   "cell_type": "code",
   "execution_count": 16,
   "metadata": {},
   "outputs": [],
   "source": [
    "mydna = 'atctggttaaattgggaatcctcgat\\nattcttcttggatc'"
   ]
  },
  {
   "cell_type": "code",
   "execution_count": 17,
   "metadata": {},
   "outputs": [
    {
     "name": "stdout",
     "output_type": "stream",
     "text": [
      "atctggttaaattgggaatcctcgat\n",
      "attcttcttggatc\n"
     ]
    }
   ],
   "source": [
    "print(mydna)"
   ]
  },
  {
   "cell_type": "code",
   "execution_count": 23,
   "metadata": {},
   "outputs": [],
   "source": [
    "with open('dnaseq.txt', \"w\") as wf:\n",
    "    for line in mydna:\n",
    "        wf.write(mydna)"
   ]
  },
  {
   "cell_type": "code",
   "execution_count": 24,
   "metadata": {},
   "outputs": [
    {
     "name": "stdout",
     "output_type": "stream",
     "text": [
      "2.11.ipynb  2-13.ipynb  dnaseq.txt\r\n"
     ]
    }
   ],
   "source": [
    "ls"
   ]
  },
  {
   "cell_type": "code",
   "execution_count": 25,
   "metadata": {},
   "outputs": [
    {
     "name": "stdout",
     "output_type": "stream",
     "text": [
      "atctggttaaattgggaatcctcgat\n",
      "\n",
      "attcttcttggatcatctggttaaattgggaatcctcgat\n",
      "\n",
      "attcttcttggatcatctggttaaattgggaatcctcgat\n",
      "\n",
      "attcttcttggatcatctggttaaattgggaatcctcgat\n",
      "\n",
      "attcttcttggatcatctggttaaattgggaatcctcgat\n",
      "\n",
      "attcttcttggatcatctggttaaattgggaatcctcgat\n",
      "\n",
      "attcttcttggatcatctggttaaattgggaatcctcgat\n",
      "\n",
      "attcttcttggatcatctggttaaattgggaatcctcgat\n",
      "\n",
      "attcttcttggatcatctggttaaattgggaatcctcgat\n",
      "\n",
      "attcttcttggatcatctggttaaattgggaatcctcgat\n",
      "\n",
      "attcttcttggatcatctggttaaattgggaatcctcgat\n",
      "\n",
      "attcttcttggatcatctggttaaattgggaatcctcgat\n",
      "\n",
      "attcttcttggatcatctggttaaattgggaatcctcgat\n",
      "\n",
      "attcttcttggatcatctggttaaattgggaatcctcgat\n",
      "\n",
      "attcttcttggatcatctggttaaattgggaatcctcgat\n",
      "\n",
      "attcttcttggatcatctggttaaattgggaatcctcgat\n",
      "\n",
      "attcttcttggatcatctggttaaattgggaatcctcgat\n",
      "\n",
      "attcttcttggatcatctggttaaattgggaatcctcgat\n",
      "\n",
      "attcttcttggatcatctggttaaattgggaatcctcgat\n",
      "\n",
      "attcttcttggatcatctggttaaattgggaatcctcgat\n",
      "\n",
      "attcttcttggatcatctggttaaattgggaatcctcgat\n",
      "\n",
      "attcttcttggatcatctggttaaattgggaatcctcgat\n",
      "\n",
      "attcttcttggatcatctggttaaattgggaatcctcgat\n",
      "\n",
      "attcttcttggatcatctggttaaattgggaatcctcgat\n",
      "\n",
      "attcttcttggatcatctggttaaattgggaatcctcgat\n",
      "\n",
      "attcttcttggatcatctggttaaattgggaatcctcgat\n",
      "\n",
      "attcttcttggatcatctggttaaattgggaatcctcgat\n",
      "\n",
      "attcttcttggatcatctggttaaattgggaatcctcgat\n",
      "\n",
      "attcttcttggatcatctggttaaattgggaatcctcgat\n",
      "\n",
      "attcttcttggatcatctggttaaattgggaatcctcgat\n",
      "\n",
      "attcttcttggatcatctggttaaattgggaatcctcgat\n",
      "\n",
      "attcttcttggatcatctggttaaattgggaatcctcgat\n",
      "\n",
      "attcttcttggatcatctggttaaattgggaatcctcgat\n",
      "\n",
      "attcttcttggatcatctggttaaattgggaatcctcgat\n",
      "\n",
      "attcttcttggatcatctggttaaattgggaatcctcgat\n",
      "\n",
      "attcttcttggatcatctggttaaattgggaatcctcgat\n",
      "\n",
      "attcttcttggatcatctggttaaattgggaatcctcgat\n",
      "\n",
      "attcttcttggatcatctggttaaattgggaatcctcgat\n",
      "\n",
      "attcttcttggatcatctggttaaattgggaatcctcgat\n",
      "\n",
      "attcttcttggatcatctggttaaattgggaatcctcgat\n",
      "\n",
      "attcttcttggatcatctggttaaattgggaatcctcgat\n",
      "\n",
      "attcttcttggatc\n"
     ]
    }
   ],
   "source": [
    "with open('dnaseq.txt', \"r\") as rf:\n",
    "    for line in rf:\n",
    "        print(line)"
   ]
  },
  {
   "cell_type": "code",
   "execution_count": 26,
   "metadata": {},
   "outputs": [],
   "source": [
    "import os"
   ]
  },
  {
   "cell_type": "code",
   "execution_count": 35,
   "metadata": {},
   "outputs": [
    {
     "ename": "FileNotFoundError",
     "evalue": "[Errno 2] No such file or directory: '/Developer/repos/CSB/python/data/'",
     "output_type": "error",
     "traceback": [
      "\u001b[0;31m---------------------------------------------------------------------------\u001b[0m",
      "\u001b[0;31mFileNotFoundError\u001b[0m                         Traceback (most recent call last)",
      "\u001b[0;32m<ipython-input-35-fc9828a8a1c2>\u001b[0m in \u001b[0;36m<module>\u001b[0;34m\u001b[0m\n\u001b[1;32m      1\u001b[0m \u001b[0mdatapath\u001b[0m \u001b[0;34m=\u001b[0m \u001b[0;34m\"/Developer/repos/CSB/python/data/\"\u001b[0m\u001b[0;34m\u001b[0m\u001b[0;34m\u001b[0m\u001b[0m\n\u001b[0;32m----> 2\u001b[0;31m \u001b[0mos\u001b[0m\u001b[0;34m.\u001b[0m\u001b[0mchdir\u001b[0m\u001b[0;34m(\u001b[0m\u001b[0mdatapath\u001b[0m\u001b[0;34m)\u001b[0m\u001b[0;34m\u001b[0m\u001b[0;34m\u001b[0m\u001b[0m\n\u001b[0m",
      "\u001b[0;31mFileNotFoundError\u001b[0m: [Errno 2] No such file or directory: '/Developer/repos/CSB/python/data/'"
     ]
    }
   ],
   "source": [
    "datapath = \"/Developer/repos/CSB/python/data/\"\n",
    "os.chdir(datapath)"
   ]
  },
  {
   "cell_type": "code",
   "execution_count": 36,
   "metadata": {},
   "outputs": [
    {
     "name": "stdout",
     "output_type": "stream",
     "text": [
      "2.11.ipynb  2-13.ipynb  dnaseq.txt\r\n"
     ]
    }
   ],
   "source": [
    "ls"
   ]
  },
  {
   "cell_type": "code",
   "execution_count": 37,
   "metadata": {},
   "outputs": [
    {
     "name": "stdout",
     "output_type": "stream",
     "text": [
      "2.11.ipynb  2-13.ipynb  Dalziel2016_data.csv  dnaseq.txt\r\n"
     ]
    }
   ],
   "source": [
    "ls"
   ]
  },
  {
   "cell_type": "code",
   "execution_count": 38,
   "metadata": {},
   "outputs": [
    {
     "data": {
      "text/plain": [
       "'select only cases frmm 1910 and write them out to a new file with the header still there'"
      ]
     },
     "execution_count": 38,
     "metadata": {},
     "output_type": "execute_result"
    }
   ],
   "source": [
    "'select only cases frmm 1910 and write them out to a new file with the header still there'"
   ]
  },
  {
   "cell_type": "code",
   "execution_count": null,
   "metadata": {},
   "outputs": [],
   "source": []
  }
 ],
 "metadata": {
  "kernelspec": {
   "display_name": "Python 3",
   "language": "python",
   "name": "python3"
  },
  "language_info": {
   "codemirror_mode": {
    "name": "ipython",
    "version": 3
   },
   "file_extension": ".py",
   "mimetype": "text/x-python",
   "name": "python",
   "nbconvert_exporter": "python",
   "pygments_lexer": "ipython3",
   "version": "3.7.5"
  }
 },
 "nbformat": 4,
 "nbformat_minor": 2
}
